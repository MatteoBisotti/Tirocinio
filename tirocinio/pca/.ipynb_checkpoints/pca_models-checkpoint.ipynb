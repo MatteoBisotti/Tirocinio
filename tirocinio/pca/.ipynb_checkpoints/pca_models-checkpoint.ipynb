{
 "cells": [
  {
   "cell_type": "code",
   "execution_count": 1,
   "metadata": {},
   "outputs": [
    {
     "name": "stderr",
     "output_type": "stream",
     "text": [
      "2024-08-12 15:29:30.357347: I tensorflow/core/util/port.cc:113] oneDNN custom operations are on. You may see slightly different numerical results due to floating-point round-off errors from different computation orders. To turn them off, set the environment variable `TF_ENABLE_ONEDNN_OPTS=0`.\n",
      "2024-08-12 15:29:30.357860: I external/local_tsl/tsl/cuda/cudart_stub.cc:32] Could not find cuda drivers on your machine, GPU will not be used.\n",
      "2024-08-12 15:29:30.361922: I external/local_tsl/tsl/cuda/cudart_stub.cc:32] Could not find cuda drivers on your machine, GPU will not be used.\n",
      "2024-08-12 15:29:30.416571: I tensorflow/core/platform/cpu_feature_guard.cc:210] This TensorFlow binary is optimized to use available CPU instructions in performance-critical operations.\n",
      "To enable the following instructions: AVX2 AVX_VNNI FMA, in other operations, rebuild TensorFlow with the appropriate compiler flags.\n",
      "2024-08-12 15:29:32.223530: W tensorflow/compiler/tf2tensorrt/utils/py_utils.cc:38] TF-TRT Warning: Could not find TensorRT\n"
     ]
    }
   ],
   "source": [
    "import sys\n",
    "sys.path.append(\"../script\")\n",
    "import pca"
   ]
  },
  {
   "cell_type": "code",
   "execution_count": 2,
   "metadata": {},
   "outputs": [
    {
     "data": {
      "text/markdown": [
       "# Decision tree e Random forest sul dataset con pca"
      ],
      "text/plain": [
       "<IPython.core.display.Markdown object>"
      ]
     },
     "metadata": {},
     "output_type": "display_data"
    },
    {
     "data": {
      "text/markdown": [
       "### Dataset con pca"
      ],
      "text/plain": [
       "<IPython.core.display.Markdown object>"
      ]
     },
     "metadata": {},
     "output_type": "display_data"
    },
    {
     "data": {
      "text/html": [
       "<div>\n",
       "<style scoped>\n",
       "    .dataframe tbody tr th:only-of-type {\n",
       "        vertical-align: middle;\n",
       "    }\n",
       "\n",
       "    .dataframe tbody tr th {\n",
       "        vertical-align: top;\n",
       "    }\n",
       "\n",
       "    .dataframe thead th {\n",
       "        text-align: right;\n",
       "    }\n",
       "</style>\n",
       "<table border=\"1\" class=\"dataframe\">\n",
       "  <thead>\n",
       "    <tr style=\"text-align: right;\">\n",
       "      <th></th>\n",
       "      <th>PC1</th>\n",
       "      <th>PC2</th>\n",
       "      <th>PC3</th>\n",
       "      <th>PC4</th>\n",
       "      <th>PC5</th>\n",
       "      <th>PC6</th>\n",
       "      <th>PC7</th>\n",
       "      <th>PC8</th>\n",
       "      <th>PC9</th>\n",
       "      <th>PC10</th>\n",
       "      <th>...</th>\n",
       "      <th>PC77</th>\n",
       "      <th>PC78</th>\n",
       "      <th>PC79</th>\n",
       "      <th>PC80</th>\n",
       "      <th>PC81</th>\n",
       "      <th>PC82</th>\n",
       "      <th>PC83</th>\n",
       "      <th>PC84</th>\n",
       "      <th>PC85</th>\n",
       "      <th>LUX_01</th>\n",
       "    </tr>\n",
       "  </thead>\n",
       "  <tbody>\n",
       "    <tr>\n",
       "      <th>0</th>\n",
       "      <td>0.555712</td>\n",
       "      <td>2.362089</td>\n",
       "      <td>0.135036</td>\n",
       "      <td>-1.042269</td>\n",
       "      <td>-0.394520</td>\n",
       "      <td>-1.521348</td>\n",
       "      <td>1.078958</td>\n",
       "      <td>1.074984</td>\n",
       "      <td>-0.261332</td>\n",
       "      <td>1.605219</td>\n",
       "      <td>...</td>\n",
       "      <td>0.202692</td>\n",
       "      <td>-0.094717</td>\n",
       "      <td>-0.153604</td>\n",
       "      <td>-0.362882</td>\n",
       "      <td>0.344492</td>\n",
       "      <td>0.098623</td>\n",
       "      <td>-0.053022</td>\n",
       "      <td>-0.260436</td>\n",
       "      <td>-0.641842</td>\n",
       "      <td>0</td>\n",
       "    </tr>\n",
       "    <tr>\n",
       "      <th>1</th>\n",
       "      <td>3.542421</td>\n",
       "      <td>0.965531</td>\n",
       "      <td>-1.071450</td>\n",
       "      <td>-0.725943</td>\n",
       "      <td>0.113250</td>\n",
       "      <td>0.798048</td>\n",
       "      <td>-0.126478</td>\n",
       "      <td>0.606708</td>\n",
       "      <td>-1.272350</td>\n",
       "      <td>0.632347</td>\n",
       "      <td>...</td>\n",
       "      <td>-0.736333</td>\n",
       "      <td>0.089673</td>\n",
       "      <td>0.011751</td>\n",
       "      <td>0.479263</td>\n",
       "      <td>1.268112</td>\n",
       "      <td>0.674868</td>\n",
       "      <td>1.183353</td>\n",
       "      <td>-0.269440</td>\n",
       "      <td>-0.564466</td>\n",
       "      <td>0</td>\n",
       "    </tr>\n",
       "    <tr>\n",
       "      <th>2</th>\n",
       "      <td>-0.177483</td>\n",
       "      <td>2.152823</td>\n",
       "      <td>-0.214920</td>\n",
       "      <td>-1.659847</td>\n",
       "      <td>-1.204969</td>\n",
       "      <td>-1.964841</td>\n",
       "      <td>1.608516</td>\n",
       "      <td>1.098855</td>\n",
       "      <td>-0.109676</td>\n",
       "      <td>2.145244</td>\n",
       "      <td>...</td>\n",
       "      <td>-0.170358</td>\n",
       "      <td>-0.512057</td>\n",
       "      <td>-0.549677</td>\n",
       "      <td>0.562234</td>\n",
       "      <td>-0.000455</td>\n",
       "      <td>0.123077</td>\n",
       "      <td>0.455459</td>\n",
       "      <td>-0.136216</td>\n",
       "      <td>-0.143628</td>\n",
       "      <td>0</td>\n",
       "    </tr>\n",
       "    <tr>\n",
       "      <th>3</th>\n",
       "      <td>-3.091532</td>\n",
       "      <td>2.617098</td>\n",
       "      <td>0.287696</td>\n",
       "      <td>0.865496</td>\n",
       "      <td>-0.225970</td>\n",
       "      <td>2.455908</td>\n",
       "      <td>-0.826009</td>\n",
       "      <td>0.157535</td>\n",
       "      <td>-0.410453</td>\n",
       "      <td>1.259064</td>\n",
       "      <td>...</td>\n",
       "      <td>0.310183</td>\n",
       "      <td>0.712549</td>\n",
       "      <td>-0.097661</td>\n",
       "      <td>0.021822</td>\n",
       "      <td>0.373410</td>\n",
       "      <td>0.087055</td>\n",
       "      <td>0.416572</td>\n",
       "      <td>0.063117</td>\n",
       "      <td>-0.820490</td>\n",
       "      <td>0</td>\n",
       "    </tr>\n",
       "    <tr>\n",
       "      <th>4</th>\n",
       "      <td>2.786548</td>\n",
       "      <td>1.073114</td>\n",
       "      <td>-0.813556</td>\n",
       "      <td>-0.771914</td>\n",
       "      <td>-0.017795</td>\n",
       "      <td>1.434273</td>\n",
       "      <td>0.024771</td>\n",
       "      <td>1.909462</td>\n",
       "      <td>-0.657869</td>\n",
       "      <td>1.214982</td>\n",
       "      <td>...</td>\n",
       "      <td>0.078854</td>\n",
       "      <td>0.004825</td>\n",
       "      <td>-1.893560</td>\n",
       "      <td>0.325773</td>\n",
       "      <td>0.298244</td>\n",
       "      <td>0.023157</td>\n",
       "      <td>-1.058175</td>\n",
       "      <td>0.894750</td>\n",
       "      <td>0.569767</td>\n",
       "      <td>0</td>\n",
       "    </tr>\n",
       "  </tbody>\n",
       "</table>\n",
       "<p>5 rows × 86 columns</p>\n",
       "</div>"
      ],
      "text/plain": [
       "        PC1       PC2       PC3       PC4       PC5       PC6       PC7  \\\n",
       "0  0.555712  2.362089  0.135036 -1.042269 -0.394520 -1.521348  1.078958   \n",
       "1  3.542421  0.965531 -1.071450 -0.725943  0.113250  0.798048 -0.126478   \n",
       "2 -0.177483  2.152823 -0.214920 -1.659847 -1.204969 -1.964841  1.608516   \n",
       "3 -3.091532  2.617098  0.287696  0.865496 -0.225970  2.455908 -0.826009   \n",
       "4  2.786548  1.073114 -0.813556 -0.771914 -0.017795  1.434273  0.024771   \n",
       "\n",
       "        PC8       PC9      PC10  ...      PC77      PC78      PC79      PC80  \\\n",
       "0  1.074984 -0.261332  1.605219  ...  0.202692 -0.094717 -0.153604 -0.362882   \n",
       "1  0.606708 -1.272350  0.632347  ... -0.736333  0.089673  0.011751  0.479263   \n",
       "2  1.098855 -0.109676  2.145244  ... -0.170358 -0.512057 -0.549677  0.562234   \n",
       "3  0.157535 -0.410453  1.259064  ...  0.310183  0.712549 -0.097661  0.021822   \n",
       "4  1.909462 -0.657869  1.214982  ...  0.078854  0.004825 -1.893560  0.325773   \n",
       "\n",
       "       PC81      PC82      PC83      PC84      PC85  LUX_01  \n",
       "0  0.344492  0.098623 -0.053022 -0.260436 -0.641842       0  \n",
       "1  1.268112  0.674868  1.183353 -0.269440 -0.564466       0  \n",
       "2 -0.000455  0.123077  0.455459 -0.136216 -0.143628       0  \n",
       "3  0.373410  0.087055  0.416572  0.063117 -0.820490       0  \n",
       "4  0.298244  0.023157 -1.058175  0.894750  0.569767       0  \n",
       "\n",
       "[5 rows x 86 columns]"
      ]
     },
     "metadata": {},
     "output_type": "display_data"
    },
    {
     "data": {
      "text/markdown": [
       "### Dataset componenti"
      ],
      "text/plain": [
       "<IPython.core.display.Markdown object>"
      ]
     },
     "metadata": {},
     "output_type": "display_data"
    },
    {
     "data": {
      "text/html": [
       "<div>\n",
       "<style scoped>\n",
       "    .dataframe tbody tr th:only-of-type {\n",
       "        vertical-align: middle;\n",
       "    }\n",
       "\n",
       "    .dataframe tbody tr th {\n",
       "        vertical-align: top;\n",
       "    }\n",
       "\n",
       "    .dataframe thead th {\n",
       "        text-align: right;\n",
       "    }\n",
       "</style>\n",
       "<table border=\"1\" class=\"dataframe\">\n",
       "  <thead>\n",
       "    <tr style=\"text-align: right;\">\n",
       "      <th></th>\n",
       "      <th>PC1</th>\n",
       "      <th>PC2</th>\n",
       "      <th>PC3</th>\n",
       "      <th>PC4</th>\n",
       "      <th>PC5</th>\n",
       "      <th>PC6</th>\n",
       "      <th>PC7</th>\n",
       "      <th>PC8</th>\n",
       "      <th>PC9</th>\n",
       "      <th>PC10</th>\n",
       "      <th>...</th>\n",
       "      <th>PC76</th>\n",
       "      <th>PC77</th>\n",
       "      <th>PC78</th>\n",
       "      <th>PC79</th>\n",
       "      <th>PC80</th>\n",
       "      <th>PC81</th>\n",
       "      <th>PC82</th>\n",
       "      <th>PC83</th>\n",
       "      <th>PC84</th>\n",
       "      <th>PC85</th>\n",
       "    </tr>\n",
       "  </thead>\n",
       "  <tbody>\n",
       "    <tr>\n",
       "      <th>0</th>\n",
       "      <td>0.081193</td>\n",
       "      <td>-0.091874</td>\n",
       "      <td>-0.032709</td>\n",
       "      <td>0.060620</td>\n",
       "      <td>-0.043605</td>\n",
       "      <td>0.010673</td>\n",
       "      <td>-0.019425</td>\n",
       "      <td>0.102532</td>\n",
       "      <td>0.028973</td>\n",
       "      <td>0.121009</td>\n",
       "      <td>...</td>\n",
       "      <td>-0.019565</td>\n",
       "      <td>0.052239</td>\n",
       "      <td>-0.099440</td>\n",
       "      <td>0.015604</td>\n",
       "      <td>-0.012046</td>\n",
       "      <td>-0.025541</td>\n",
       "      <td>-0.023147</td>\n",
       "      <td>-0.034206</td>\n",
       "      <td>-0.006271</td>\n",
       "      <td>0.026892</td>\n",
       "    </tr>\n",
       "    <tr>\n",
       "      <th>1</th>\n",
       "      <td>0.381378</td>\n",
       "      <td>-0.106816</td>\n",
       "      <td>0.041986</td>\n",
       "      <td>0.050488</td>\n",
       "      <td>-0.017443</td>\n",
       "      <td>-0.113676</td>\n",
       "      <td>-0.003159</td>\n",
       "      <td>-0.019349</td>\n",
       "      <td>-0.060594</td>\n",
       "      <td>0.093243</td>\n",
       "      <td>...</td>\n",
       "      <td>-0.023295</td>\n",
       "      <td>0.006485</td>\n",
       "      <td>0.007888</td>\n",
       "      <td>-0.009518</td>\n",
       "      <td>0.021900</td>\n",
       "      <td>0.017791</td>\n",
       "      <td>0.006661</td>\n",
       "      <td>0.024442</td>\n",
       "      <td>-0.026961</td>\n",
       "      <td>0.013462</td>\n",
       "    </tr>\n",
       "    <tr>\n",
       "      <th>2</th>\n",
       "      <td>0.091001</td>\n",
       "      <td>-0.085636</td>\n",
       "      <td>-0.016723</td>\n",
       "      <td>0.026835</td>\n",
       "      <td>-0.054882</td>\n",
       "      <td>-0.139759</td>\n",
       "      <td>-0.046381</td>\n",
       "      <td>0.033947</td>\n",
       "      <td>-0.048173</td>\n",
       "      <td>0.147718</td>\n",
       "      <td>...</td>\n",
       "      <td>-0.064560</td>\n",
       "      <td>-0.042451</td>\n",
       "      <td>0.054521</td>\n",
       "      <td>0.033018</td>\n",
       "      <td>0.020914</td>\n",
       "      <td>0.023181</td>\n",
       "      <td>0.055774</td>\n",
       "      <td>0.026225</td>\n",
       "      <td>0.006648</td>\n",
       "      <td>-0.094502</td>\n",
       "    </tr>\n",
       "    <tr>\n",
       "      <th>3</th>\n",
       "      <td>0.057982</td>\n",
       "      <td>-0.039474</td>\n",
       "      <td>-0.010555</td>\n",
       "      <td>0.129596</td>\n",
       "      <td>0.145505</td>\n",
       "      <td>-0.133653</td>\n",
       "      <td>-0.087221</td>\n",
       "      <td>0.078917</td>\n",
       "      <td>0.019452</td>\n",
       "      <td>0.045782</td>\n",
       "      <td>...</td>\n",
       "      <td>-0.050881</td>\n",
       "      <td>0.003340</td>\n",
       "      <td>-0.026160</td>\n",
       "      <td>0.150819</td>\n",
       "      <td>-0.026857</td>\n",
       "      <td>-0.056376</td>\n",
       "      <td>-0.050099</td>\n",
       "      <td>-0.160756</td>\n",
       "      <td>-0.002808</td>\n",
       "      <td>0.065832</td>\n",
       "    </tr>\n",
       "    <tr>\n",
       "      <th>4</th>\n",
       "      <td>-0.018464</td>\n",
       "      <td>-0.285239</td>\n",
       "      <td>0.012009</td>\n",
       "      <td>-0.017330</td>\n",
       "      <td>-0.107725</td>\n",
       "      <td>0.119024</td>\n",
       "      <td>-0.031795</td>\n",
       "      <td>-0.065325</td>\n",
       "      <td>0.001222</td>\n",
       "      <td>0.063901</td>\n",
       "      <td>...</td>\n",
       "      <td>0.110628</td>\n",
       "      <td>0.036738</td>\n",
       "      <td>0.070177</td>\n",
       "      <td>0.051628</td>\n",
       "      <td>0.123909</td>\n",
       "      <td>-0.022962</td>\n",
       "      <td>-0.075832</td>\n",
       "      <td>0.042787</td>\n",
       "      <td>-0.108411</td>\n",
       "      <td>-0.072794</td>\n",
       "    </tr>\n",
       "  </tbody>\n",
       "</table>\n",
       "<p>5 rows × 85 columns</p>\n",
       "</div>"
      ],
      "text/plain": [
       "        PC1       PC2       PC3       PC4       PC5       PC6       PC7  \\\n",
       "0  0.081193 -0.091874 -0.032709  0.060620 -0.043605  0.010673 -0.019425   \n",
       "1  0.381378 -0.106816  0.041986  0.050488 -0.017443 -0.113676 -0.003159   \n",
       "2  0.091001 -0.085636 -0.016723  0.026835 -0.054882 -0.139759 -0.046381   \n",
       "3  0.057982 -0.039474 -0.010555  0.129596  0.145505 -0.133653 -0.087221   \n",
       "4 -0.018464 -0.285239  0.012009 -0.017330 -0.107725  0.119024 -0.031795   \n",
       "\n",
       "        PC8       PC9      PC10  ...      PC76      PC77      PC78      PC79  \\\n",
       "0  0.102532  0.028973  0.121009  ... -0.019565  0.052239 -0.099440  0.015604   \n",
       "1 -0.019349 -0.060594  0.093243  ... -0.023295  0.006485  0.007888 -0.009518   \n",
       "2  0.033947 -0.048173  0.147718  ... -0.064560 -0.042451  0.054521  0.033018   \n",
       "3  0.078917  0.019452  0.045782  ... -0.050881  0.003340 -0.026160  0.150819   \n",
       "4 -0.065325  0.001222  0.063901  ...  0.110628  0.036738  0.070177  0.051628   \n",
       "\n",
       "       PC80      PC81      PC82      PC83      PC84      PC85  \n",
       "0 -0.012046 -0.025541 -0.023147 -0.034206 -0.006271  0.026892  \n",
       "1  0.021900  0.017791  0.006661  0.024442 -0.026961  0.013462  \n",
       "2  0.020914  0.023181  0.055774  0.026225  0.006648 -0.094502  \n",
       "3 -0.026857 -0.056376 -0.050099 -0.160756 -0.002808  0.065832  \n",
       "4  0.123909 -0.022962 -0.075832  0.042787 -0.108411 -0.072794  \n",
       "\n",
       "[5 rows x 85 columns]"
      ]
     },
     "metadata": {},
     "output_type": "display_data"
    },
    {
     "data": {
      "text/markdown": [
       "## Modelli sul dataset originale"
      ],
      "text/plain": [
       "<IPython.core.display.Markdown object>"
      ]
     },
     "metadata": {},
     "output_type": "display_data"
    },
    {
     "data": {
      "text/markdown": [
       "### Decision tree"
      ],
      "text/plain": [
       "<IPython.core.display.Markdown object>"
      ]
     },
     "metadata": {},
     "output_type": "display_data"
    },
    {
     "data": {
      "text/markdown": [
       "### Classification report"
      ],
      "text/plain": [
       "<IPython.core.display.Markdown object>"
      ]
     },
     "metadata": {},
     "output_type": "display_data"
    },
    {
     "name": "stdout",
     "output_type": "stream",
     "text": [
      "              precision    recall  f1-score   support\n",
      "\n",
      "           0       0.67      1.00      0.80       200\n",
      "           1       1.00      0.01      0.02       100\n",
      "\n",
      "    accuracy                           0.67       300\n",
      "   macro avg       0.83      0.51      0.41       300\n",
      "weighted avg       0.78      0.67      0.54       300\n",
      "\n"
     ]
    },
    {
     "data": {
      "text/html": [
       "<div>\n",
       "<style scoped>\n",
       "    .dataframe tbody tr th:only-of-type {\n",
       "        vertical-align: middle;\n",
       "    }\n",
       "\n",
       "    .dataframe tbody tr th {\n",
       "        vertical-align: top;\n",
       "    }\n",
       "\n",
       "    .dataframe thead th {\n",
       "        text-align: right;\n",
       "    }\n",
       "</style>\n",
       "<table border=\"1\" class=\"dataframe\">\n",
       "  <thead>\n",
       "    <tr style=\"text-align: right;\">\n",
       "      <th></th>\n",
       "      <th>Metrica</th>\n",
       "      <th>Valore</th>\n",
       "    </tr>\n",
       "  </thead>\n",
       "  <tbody>\n",
       "    <tr>\n",
       "      <th>0</th>\n",
       "      <td>Accuracy</td>\n",
       "      <td>0.670000</td>\n",
       "    </tr>\n",
       "    <tr>\n",
       "      <th>1</th>\n",
       "      <td>Recall - Sensibilità</td>\n",
       "      <td>0.505000</td>\n",
       "    </tr>\n",
       "    <tr>\n",
       "      <th>2</th>\n",
       "      <td>Precision - Specificità</td>\n",
       "      <td>0.834448</td>\n",
       "    </tr>\n",
       "    <tr>\n",
       "      <th>3</th>\n",
       "      <td>F1-score</td>\n",
       "      <td>0.410703</td>\n",
       "    </tr>\n",
       "    <tr>\n",
       "      <th>4</th>\n",
       "      <td>ROC AUC</td>\n",
       "      <td>0.505000</td>\n",
       "    </tr>\n",
       "  </tbody>\n",
       "</table>\n",
       "</div>"
      ],
      "text/plain": [
       "                   Metrica    Valore\n",
       "0                 Accuracy  0.670000\n",
       "1     Recall - Sensibilità  0.505000\n",
       "2  Precision - Specificità  0.834448\n",
       "3                 F1-score  0.410703\n",
       "4                  ROC AUC  0.505000"
      ]
     },
     "metadata": {},
     "output_type": "display_data"
    },
    {
     "data": {
      "image/png": "[encoded data removed]",
      "text/plain": [
       "<Figure size 1200x800 with 1 Axes>"
      ]
     },
     "metadata": {},
     "output_type": "display_data"
    },
    {
     "data": {
      "text/markdown": [
       "---"
      ],
      "text/plain": [
       "<IPython.core.display.Markdown object>"
      ]
     },
     "metadata": {},
     "output_type": "display_data"
    },
    {
     "data": {
      "text/markdown": [
       "### Random forest"
      ],
      "text/plain": [
       "<IPython.core.display.Markdown object>"
      ]
     },
     "metadata": {},
     "output_type": "display_data"
    },
    {
     "data": {
      "text/html": [
       "<div>\n",
       "<style scoped>\n",
       "    .dataframe tbody tr th:only-of-type {\n",
       "        vertical-align: middle;\n",
       "    }\n",
       "\n",
       "    .dataframe tbody tr th {\n",
       "        vertical-align: top;\n",
       "    }\n",
       "\n",
       "    .dataframe thead th {\n",
       "        text-align: right;\n",
       "    }\n",
       "</style>\n",
       "<table border=\"1\" class=\"dataframe\">\n",
       "  <thead>\n",
       "    <tr style=\"text-align: right;\">\n",
       "      <th></th>\n",
       "      <th>criterion</th>\n",
       "      <th>max_depth</th>\n",
       "      <th>min_impurity_decrease</th>\n",
       "      <th>min_samples_split</th>\n",
       "      <th>n_estimators</th>\n",
       "    </tr>\n",
       "  </thead>\n",
       "  <tbody>\n",
       "    <tr>\n",
       "      <th>0</th>\n",
       "      <td>gini</td>\n",
       "      <td>8</td>\n",
       "      <td>0.0</td>\n",
       "      <td>2</td>\n",
       "      <td>5</td>\n",
       "    </tr>\n",
       "  </tbody>\n",
       "</table>\n",
       "</div>"
      ],
      "text/plain": [
       "  criterion  max_depth  min_impurity_decrease  min_samples_split  n_estimators\n",
       "0      gini          8                    0.0                  2             5"
      ]
     },
     "metadata": {},
     "output_type": "display_data"
    },
    {
     "data": {
      "text/markdown": [
       "### Classification report"
      ],
      "text/plain": [
       "<IPython.core.display.Markdown object>"
      ]
     },
     "metadata": {},
     "output_type": "display_data"
    },
    {
     "name": "stdout",
     "output_type": "stream",
     "text": [
      "              precision    recall  f1-score   support\n",
      "\n",
      "           0       0.67      1.00      0.80       200\n",
      "           1       1.00      0.02      0.04       100\n",
      "\n",
      "    accuracy                           0.67       300\n",
      "   macro avg       0.84      0.51      0.42       300\n",
      "weighted avg       0.78      0.67      0.55       300\n",
      "\n"
     ]
    },
    {
     "data": {
      "text/html": [
       "<div>\n",
       "<style scoped>\n",
       "    .dataframe tbody tr th:only-of-type {\n",
       "        vertical-align: middle;\n",
       "    }\n",
       "\n",
       "    .dataframe tbody tr th {\n",
       "        vertical-align: top;\n",
       "    }\n",
       "\n",
       "    .dataframe thead th {\n",
       "        text-align: right;\n",
       "    }\n",
       "</style>\n",
       "<table border=\"1\" class=\"dataframe\">\n",
       "  <thead>\n",
       "    <tr style=\"text-align: right;\">\n",
       "      <th></th>\n",
       "      <th>Metrica</th>\n",
       "      <th>Valore</th>\n",
       "    </tr>\n",
       "  </thead>\n",
       "  <tbody>\n",
       "    <tr>\n",
       "      <th>0</th>\n",
       "      <td>Accuracy</td>\n",
       "      <td>0.673333</td>\n",
       "    </tr>\n",
       "    <tr>\n",
       "      <th>1</th>\n",
       "      <td>Recall - Sensibilità</td>\n",
       "      <td>0.510000</td>\n",
       "    </tr>\n",
       "    <tr>\n",
       "      <th>2</th>\n",
       "      <td>Precision - Specificità</td>\n",
       "      <td>0.835570</td>\n",
       "    </tr>\n",
       "    <tr>\n",
       "      <th>3</th>\n",
       "      <td>F1-score</td>\n",
       "      <td>0.421214</td>\n",
       "    </tr>\n",
       "    <tr>\n",
       "      <th>4</th>\n",
       "      <td>ROC AUC</td>\n",
       "      <td>0.510000</td>\n",
       "    </tr>\n",
       "  </tbody>\n",
       "</table>\n",
       "</div>"
      ],
      "text/plain": [
       "                   Metrica    Valore\n",
       "0                 Accuracy  0.673333\n",
       "1     Recall - Sensibilità  0.510000\n",
       "2  Precision - Specificità  0.835570\n",
       "3                 F1-score  0.421214\n",
       "4                  ROC AUC  0.510000"
      ]
     },
     "metadata": {},
     "output_type": "display_data"
    },
    {
     "data": {
      "image/png": "[encoded data removed]",
      "text/plain": [
       "<Figure size 1200x800 with 1 Axes>"
      ]
     },
     "metadata": {},
     "output_type": "display_data"
    },
    {
     "data": {
      "text/markdown": [
       "---"
      ],
      "text/plain": [
       "<IPython.core.display.Markdown object>"
      ]
     },
     "metadata": {},
     "output_type": "display_data"
    },
    {
     "data": {
      "text/markdown": [
       "## Modelli sul dataset con oversampling"
      ],
      "text/plain": [
       "<IPython.core.display.Markdown object>"
      ]
     },
     "metadata": {},
     "output_type": "display_data"
    },
    {
     "data": {
      "text/markdown": [
       "### Decision tree"
      ],
      "text/plain": [
       "<IPython.core.display.Markdown object>"
      ]
     },
     "metadata": {},
     "output_type": "display_data"
    },
    {
     "data": {
      "text/markdown": [
       "### Classification report"
      ],
      "text/plain": [
       "<IPython.core.display.Markdown object>"
      ]
     },
     "metadata": {},
     "output_type": "display_data"
    },
    {
     "name": "stdout",
     "output_type": "stream",
     "text": [
      "              precision    recall  f1-score   support\n",
      "\n",
      "           0       0.93      0.83      0.88       200\n",
      "           1       0.72      0.87      0.79       100\n",
      "\n",
      "    accuracy                           0.85       300\n",
      "   macro avg       0.83      0.85      0.83       300\n",
      "weighted avg       0.86      0.85      0.85       300\n",
      "\n"
     ]
    },
    {
     "data": {
      "text/html": [
       "<div>\n",
       "<style scoped>\n",
       "    .dataframe tbody tr th:only-of-type {\n",
       "        vertical-align: middle;\n",
       "    }\n",
       "\n",
       "    .dataframe tbody tr th {\n",
       "        vertical-align: top;\n",
       "    }\n",
       "\n",
       "    .dataframe thead th {\n",
       "        text-align: right;\n",
       "    }\n",
       "</style>\n",
       "<table border=\"1\" class=\"dataframe\">\n",
       "  <thead>\n",
       "    <tr style=\"text-align: right;\">\n",
       "      <th></th>\n",
       "      <th>Metrica</th>\n",
       "      <th>Valore</th>\n",
       "    </tr>\n",
       "  </thead>\n",
       "  <tbody>\n",
       "    <tr>\n",
       "      <th>0</th>\n",
       "      <td>Accuracy</td>\n",
       "      <td>0.846667</td>\n",
       "    </tr>\n",
       "    <tr>\n",
       "      <th>1</th>\n",
       "      <td>Recall - Sensibilità</td>\n",
       "      <td>0.852500</td>\n",
       "    </tr>\n",
       "    <tr>\n",
       "      <th>2</th>\n",
       "      <td>Precision - Specificità</td>\n",
       "      <td>0.826389</td>\n",
       "    </tr>\n",
       "    <tr>\n",
       "      <th>3</th>\n",
       "      <td>F1-score</td>\n",
       "      <td>0.834928</td>\n",
       "    </tr>\n",
       "    <tr>\n",
       "      <th>4</th>\n",
       "      <td>ROC AUC</td>\n",
       "      <td>0.852500</td>\n",
       "    </tr>\n",
       "  </tbody>\n",
       "</table>\n",
       "</div>"
      ],
      "text/plain": [
       "                   Metrica    Valore\n",
       "0                 Accuracy  0.846667\n",
       "1     Recall - Sensibilità  0.852500\n",
       "2  Precision - Specificità  0.826389\n",
       "3                 F1-score  0.834928\n",
       "4                  ROC AUC  0.852500"
      ]
     },
     "metadata": {},
     "output_type": "display_data"
    },
    {
     "data": {
      "image/png": "[encoded data removed]",
      "text/plain": [
       "<Figure size 1200x800 with 1 Axes>"
      ]
     },
     "metadata": {},
     "output_type": "display_data"
    },
    {
     "data": {
      "text/markdown": [
       "---"
      ],
      "text/plain": [
       "<IPython.core.display.Markdown object>"
      ]
     },
     "metadata": {},
     "output_type": "display_data"
    },
    {
     "data": {
      "text/markdown": [
       "### Random forest"
      ],
      "text/plain": [
       "<IPython.core.display.Markdown object>"
      ]
     },
     "metadata": {},
     "output_type": "display_data"
    },
    {
     "data": {
      "text/html": [
       "<div>\n",
       "<style scoped>\n",
       "    .dataframe tbody tr th:only-of-type {\n",
       "        vertical-align: middle;\n",
       "    }\n",
       "\n",
       "    .dataframe tbody tr th {\n",
       "        vertical-align: top;\n",
       "    }\n",
       "\n",
       "    .dataframe thead th {\n",
       "        text-align: right;\n",
       "    }\n",
       "</style>\n",
       "<table border=\"1\" class=\"dataframe\">\n",
       "  <thead>\n",
       "    <tr style=\"text-align: right;\">\n",
       "      <th></th>\n",
       "      <th>criterion</th>\n",
       "      <th>max_depth</th>\n",
       "      <th>min_impurity_decrease</th>\n",
       "      <th>min_samples_split</th>\n",
       "      <th>n_estimators</th>\n",
       "    </tr>\n",
       "  </thead>\n",
       "  <tbody>\n",
       "    <tr>\n",
       "      <th>0</th>\n",
       "      <td>entropy</td>\n",
       "      <td>8</td>\n",
       "      <td>0.0</td>\n",
       "      <td>2</td>\n",
       "      <td>5</td>\n",
       "    </tr>\n",
       "  </tbody>\n",
       "</table>\n",
       "</div>"
      ],
      "text/plain": [
       "  criterion  max_depth  min_impurity_decrease  min_samples_split  n_estimators\n",
       "0   entropy          8                    0.0                  2             5"
      ]
     },
     "metadata": {},
     "output_type": "display_data"
    },
    {
     "data": {
      "text/markdown": [
       "### Classification report"
      ],
      "text/plain": [
       "<IPython.core.display.Markdown object>"
      ]
     },
     "metadata": {},
     "output_type": "display_data"
    },
    {
     "name": "stdout",
     "output_type": "stream",
     "text": [
      "              precision    recall  f1-score   support\n",
      "\n",
      "           0       0.89      0.95      0.92       200\n",
      "           1       0.90      0.77      0.83       100\n",
      "\n",
      "    accuracy                           0.89       300\n",
      "   macro avg       0.89      0.86      0.88       300\n",
      "weighted avg       0.89      0.89      0.89       300\n",
      "\n"
     ]
    },
    {
     "data": {
      "text/html": [
       "<div>\n",
       "<style scoped>\n",
       "    .dataframe tbody tr th:only-of-type {\n",
       "        vertical-align: middle;\n",
       "    }\n",
       "\n",
       "    .dataframe tbody tr th {\n",
       "        vertical-align: top;\n",
       "    }\n",
       "\n",
       "    .dataframe thead th {\n",
       "        text-align: right;\n",
       "    }\n",
       "</style>\n",
       "<table border=\"1\" class=\"dataframe\">\n",
       "  <thead>\n",
       "    <tr style=\"text-align: right;\">\n",
       "      <th></th>\n",
       "      <th>Metrica</th>\n",
       "      <th>Valore</th>\n",
       "    </tr>\n",
       "  </thead>\n",
       "  <tbody>\n",
       "    <tr>\n",
       "      <th>0</th>\n",
       "      <td>Accuracy</td>\n",
       "      <td>0.893333</td>\n",
       "    </tr>\n",
       "    <tr>\n",
       "      <th>1</th>\n",
       "      <td>Recall - Sensibilità</td>\n",
       "      <td>0.862500</td>\n",
       "    </tr>\n",
       "    <tr>\n",
       "      <th>2</th>\n",
       "      <td>Precision - Specificità</td>\n",
       "      <td>0.893936</td>\n",
       "    </tr>\n",
       "    <tr>\n",
       "      <th>3</th>\n",
       "      <td>F1-score</td>\n",
       "      <td>0.875331</td>\n",
       "    </tr>\n",
       "    <tr>\n",
       "      <th>4</th>\n",
       "      <td>ROC AUC</td>\n",
       "      <td>0.862500</td>\n",
       "    </tr>\n",
       "  </tbody>\n",
       "</table>\n",
       "</div>"
      ],
      "text/plain": [
       "                   Metrica    Valore\n",
       "0                 Accuracy  0.893333\n",
       "1     Recall - Sensibilità  0.862500\n",
       "2  Precision - Specificità  0.893936\n",
       "3                 F1-score  0.875331\n",
       "4                  ROC AUC  0.862500"
      ]
     },
     "metadata": {},
     "output_type": "display_data"
    },
    {
     "data": {
      "image/png": "[encoded data removed]",
      "text/plain": [
       "<Figure size 1200x800 with 1 Axes>"
      ]
     },
     "metadata": {},
     "output_type": "display_data"
    }
   ],
   "source": [
    "pca.main()"
   ]
  },
  {
   "cell_type": "code",
   "execution_count": 4,
   "metadata": {},
   "outputs": [
    {
     "data": {
      "text/plain": [
       "5"
      ]
     },
     "execution_count": 4,
     "metadata": {},
     "output_type": "execute_result"
    }
   ],
   "source": [
    "import numpy\n",
    "x = [1, 2, 3, 4, 5, 6]\n",
    "numpy.argmax(x)"
   ]
  }
 ],
 "metadata": {
  "kernelspec": {
   "display_name": "base",
   "language": "python",
   "name": "python3"
  },
  "language_info": {
   "codemirror_mode": {
    "name": "ipython",
    "version": 3
   },
   "file_extension": ".py",
   "mimetype": "text/x-python",
   "name": "python",
   "nbconvert_exporter": "python",
   "pygments_lexer": "ipython3",
   "version": "3.11.7"
  }
 },
 "nbformat": 4,
 "nbformat_minor": 2
}
