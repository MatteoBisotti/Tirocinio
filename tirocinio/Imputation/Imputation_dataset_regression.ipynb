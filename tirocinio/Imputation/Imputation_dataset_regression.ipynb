{
 "cells": [
  {
   "cell_type": "markdown",
   "metadata": {},
   "source": [
    "### Imputation con regressione lineare e logistica (dataset oversampling)"
   ]
  },
  {
   "cell_type": "code",
   "execution_count": 15,
   "metadata": {},
   "outputs": [
    {
     "data": {
      "text/html": [
       "<div>\n",
       "<style scoped>\n",
       "    .dataframe tbody tr th:only-of-type {\n",
       "        vertical-align: middle;\n",
       "    }\n",
       "\n",
       "    .dataframe tbody tr th {\n",
       "        vertical-align: top;\n",
       "    }\n",
       "\n",
       "    .dataframe thead th {\n",
       "        text-align: right;\n",
       "    }\n",
       "</style>\n",
       "<table border=\"1\" class=\"dataframe\">\n",
       "  <thead>\n",
       "    <tr style=\"text-align: right;\">\n",
       "      <th></th>\n",
       "      <th>CASE_ID</th>\n",
       "      <th>BREED</th>\n",
       "      <th>GENDER_01</th>\n",
       "      <th>AGEATSURGERYmo</th>\n",
       "      <th>BODYWEIGHTKG</th>\n",
       "      <th>Taglia</th>\n",
       "      <th>BCS</th>\n",
       "      <th>INDICATIONFORTHR</th>\n",
       "      <th>HIPRL</th>\n",
       "      <th>YEAR</th>\n",
       "      <th>...</th>\n",
       "      <th>NECKSIZE</th>\n",
       "      <th>HEADSIZE</th>\n",
       "      <th>ALO</th>\n",
       "      <th>CUPRETROVERSION</th>\n",
       "      <th>STEMANTEVERSIONREAL</th>\n",
       "      <th>RECTUSFEMORISM.RELEASE</th>\n",
       "      <th>first_lux_days_after_thr</th>\n",
       "      <th>DIRECTION</th>\n",
       "      <th>LUX_01</th>\n",
       "      <th>LUX_CR</th>\n",
       "    </tr>\n",
       "  </thead>\n",
       "  <tbody>\n",
       "    <tr>\n",
       "      <th>0</th>\n",
       "      <td>1</td>\n",
       "      <td>3</td>\n",
       "      <td>0</td>\n",
       "      <td>56,5</td>\n",
       "      <td>31,6</td>\n",
       "      <td>1</td>\n",
       "      <td>5</td>\n",
       "      <td>4</td>\n",
       "      <td>R</td>\n",
       "      <td>2021</td>\n",
       "      <td>...</td>\n",
       "      <td>4</td>\n",
       "      <td>1</td>\n",
       "      <td>46.0</td>\n",
       "      <td>15</td>\n",
       "      <td>17,7</td>\n",
       "      <td>NO</td>\n",
       "      <td>NaN</td>\n",
       "      <td>NaN</td>\n",
       "      <td>0</td>\n",
       "      <td>0</td>\n",
       "    </tr>\n",
       "    <tr>\n",
       "      <th>1</th>\n",
       "      <td>2</td>\n",
       "      <td>8</td>\n",
       "      <td>0</td>\n",
       "      <td>9,4</td>\n",
       "      <td>40,9</td>\n",
       "      <td>1</td>\n",
       "      <td>5</td>\n",
       "      <td>4</td>\n",
       "      <td>L</td>\n",
       "      <td>2021</td>\n",
       "      <td>...</td>\n",
       "      <td>5</td>\n",
       "      <td>1</td>\n",
       "      <td>40.0</td>\n",
       "      <td>25</td>\n",
       "      <td>27,7</td>\n",
       "      <td>NO</td>\n",
       "      <td>NaN</td>\n",
       "      <td>NaN</td>\n",
       "      <td>0</td>\n",
       "      <td>0</td>\n",
       "    </tr>\n",
       "    <tr>\n",
       "      <th>2</th>\n",
       "      <td>3</td>\n",
       "      <td>10</td>\n",
       "      <td>0</td>\n",
       "      <td>15,1333333333333</td>\n",
       "      <td>35</td>\n",
       "      <td>1</td>\n",
       "      <td>5</td>\n",
       "      <td>4</td>\n",
       "      <td>R</td>\n",
       "      <td>2021</td>\n",
       "      <td>...</td>\n",
       "      <td>4</td>\n",
       "      <td>1</td>\n",
       "      <td>42.0</td>\n",
       "      <td>20</td>\n",
       "      <td>27,7</td>\n",
       "      <td>YES</td>\n",
       "      <td>NaN</td>\n",
       "      <td>NaN</td>\n",
       "      <td>0</td>\n",
       "      <td>0</td>\n",
       "    </tr>\n",
       "    <tr>\n",
       "      <th>3</th>\n",
       "      <td>4</td>\n",
       "      <td>6</td>\n",
       "      <td>0</td>\n",
       "      <td>83,4333333333333</td>\n",
       "      <td>18,7</td>\n",
       "      <td>0</td>\n",
       "      <td>6</td>\n",
       "      <td>4</td>\n",
       "      <td>L</td>\n",
       "      <td>2021</td>\n",
       "      <td>...</td>\n",
       "      <td>4</td>\n",
       "      <td>0</td>\n",
       "      <td>40.0</td>\n",
       "      <td>18</td>\n",
       "      <td>24,2</td>\n",
       "      <td>NO</td>\n",
       "      <td>NaN</td>\n",
       "      <td>NaN</td>\n",
       "      <td>0</td>\n",
       "      <td>0</td>\n",
       "    </tr>\n",
       "    <tr>\n",
       "      <th>4</th>\n",
       "      <td>5</td>\n",
       "      <td>5</td>\n",
       "      <td>0</td>\n",
       "      <td>7,53333333333333</td>\n",
       "      <td>36,4</td>\n",
       "      <td>1</td>\n",
       "      <td>4</td>\n",
       "      <td>4</td>\n",
       "      <td>L</td>\n",
       "      <td>2021</td>\n",
       "      <td>...</td>\n",
       "      <td>5</td>\n",
       "      <td>1</td>\n",
       "      <td>42.0</td>\n",
       "      <td>28</td>\n",
       "      <td>25,9</td>\n",
       "      <td>YES</td>\n",
       "      <td>NaN</td>\n",
       "      <td>NaN</td>\n",
       "      <td>0</td>\n",
       "      <td>0</td>\n",
       "    </tr>\n",
       "    <tr>\n",
       "      <th>...</th>\n",
       "      <td>...</td>\n",
       "      <td>...</td>\n",
       "      <td>...</td>\n",
       "      <td>...</td>\n",
       "      <td>...</td>\n",
       "      <td>...</td>\n",
       "      <td>...</td>\n",
       "      <td>...</td>\n",
       "      <td>...</td>\n",
       "      <td>...</td>\n",
       "      <td>...</td>\n",
       "      <td>...</td>\n",
       "      <td>...</td>\n",
       "      <td>...</td>\n",
       "      <td>...</td>\n",
       "      <td>...</td>\n",
       "      <td>...</td>\n",
       "      <td>...</td>\n",
       "      <td>...</td>\n",
       "      <td>...</td>\n",
       "      <td>...</td>\n",
       "    </tr>\n",
       "    <tr>\n",
       "      <th>3192</th>\n",
       "      <td>3193</td>\n",
       "      <td>3</td>\n",
       "      <td>0</td>\n",
       "      <td>57,4333333333333</td>\n",
       "      <td>25</td>\n",
       "      <td>1</td>\n",
       "      <td>5</td>\n",
       "      <td>2</td>\n",
       "      <td>R</td>\n",
       "      <td>2010</td>\n",
       "      <td>...</td>\n",
       "      <td>3</td>\n",
       "      <td>0</td>\n",
       "      <td>43.0</td>\n",
       "      <td>32</td>\n",
       "      <td>27,7</td>\n",
       "      <td>NO</td>\n",
       "      <td>35.0</td>\n",
       "      <td>CRANIO-DORSALE</td>\n",
       "      <td>1</td>\n",
       "      <td>1</td>\n",
       "    </tr>\n",
       "    <tr>\n",
       "      <th>3193</th>\n",
       "      <td>3194</td>\n",
       "      <td>5</td>\n",
       "      <td>1</td>\n",
       "      <td>49,2333333333333</td>\n",
       "      <td>38</td>\n",
       "      <td>1</td>\n",
       "      <td>6</td>\n",
       "      <td>2</td>\n",
       "      <td>R</td>\n",
       "      <td>2009</td>\n",
       "      <td>...</td>\n",
       "      <td>4</td>\n",
       "      <td>0</td>\n",
       "      <td>48.0</td>\n",
       "      <td>26</td>\n",
       "      <td>25,9</td>\n",
       "      <td>NO</td>\n",
       "      <td>18.0</td>\n",
       "      <td>CRANIO-DORSALE</td>\n",
       "      <td>1</td>\n",
       "      <td>1</td>\n",
       "    </tr>\n",
       "    <tr>\n",
       "      <th>3194</th>\n",
       "      <td>3195</td>\n",
       "      <td>13</td>\n",
       "      <td>0</td>\n",
       "      <td>38,0333333333333</td>\n",
       "      <td>43</td>\n",
       "      <td>1</td>\n",
       "      <td>5</td>\n",
       "      <td>2</td>\n",
       "      <td>R</td>\n",
       "      <td>2008</td>\n",
       "      <td>...</td>\n",
       "      <td>4</td>\n",
       "      <td>0</td>\n",
       "      <td>48.0</td>\n",
       "      <td>4</td>\n",
       "      <td>11,5</td>\n",
       "      <td>NO</td>\n",
       "      <td>30.0</td>\n",
       "      <td>CRANIO-DORSALE</td>\n",
       "      <td>1</td>\n",
       "      <td>1</td>\n",
       "    </tr>\n",
       "    <tr>\n",
       "      <th>3195</th>\n",
       "      <td>3196</td>\n",
       "      <td>5</td>\n",
       "      <td>1</td>\n",
       "      <td>11,5333333333333</td>\n",
       "      <td>28</td>\n",
       "      <td>1</td>\n",
       "      <td>5</td>\n",
       "      <td>2</td>\n",
       "      <td>R</td>\n",
       "      <td>2001</td>\n",
       "      <td>...</td>\n",
       "      <td>4</td>\n",
       "      <td>0</td>\n",
       "      <td>52.0</td>\n",
       "      <td>10</td>\n",
       "      <td>31,3</td>\n",
       "      <td>NO</td>\n",
       "      <td>26.0</td>\n",
       "      <td>CRANIO-DORSALE</td>\n",
       "      <td>1</td>\n",
       "      <td>1</td>\n",
       "    </tr>\n",
       "    <tr>\n",
       "      <th>3196</th>\n",
       "      <td>3197</td>\n",
       "      <td>3</td>\n",
       "      <td>0</td>\n",
       "      <td>9,53</td>\n",
       "      <td>36</td>\n",
       "      <td>1</td>\n",
       "      <td>5</td>\n",
       "      <td>2</td>\n",
       "      <td>L</td>\n",
       "      <td>2020</td>\n",
       "      <td>...</td>\n",
       "      <td>4</td>\n",
       "      <td>1</td>\n",
       "      <td>43.0</td>\n",
       "      <td>35</td>\n",
       "      <td>17,7</td>\n",
       "      <td>NO</td>\n",
       "      <td>83.0</td>\n",
       "      <td>CRANIO-DORSALE</td>\n",
       "      <td>1</td>\n",
       "      <td>1</td>\n",
       "    </tr>\n",
       "  </tbody>\n",
       "</table>\n",
       "<p>3197 rows × 24 columns</p>\n",
       "</div>"
      ],
      "text/plain": [
       "      CASE_ID  BREED  GENDER_01    AGEATSURGERYmo BODYWEIGHTKG  Taglia BCS  \\\n",
       "0           1      3          0              56,5         31,6       1   5   \n",
       "1           2      8          0               9,4         40,9       1   5   \n",
       "2           3     10          0  15,1333333333333           35       1   5   \n",
       "3           4      6          0  83,4333333333333         18,7       0   6   \n",
       "4           5      5          0  7,53333333333333         36,4       1   4   \n",
       "...       ...    ...        ...               ...          ...     ...  ..   \n",
       "3192     3193      3          0  57,4333333333333           25       1   5   \n",
       "3193     3194      5          1  49,2333333333333           38       1   6   \n",
       "3194     3195     13          0  38,0333333333333           43       1   5   \n",
       "3195     3196      5          1  11,5333333333333           28       1   5   \n",
       "3196     3197      3          0              9,53           36       1   5   \n",
       "\n",
       "      INDICATIONFORTHR HIPRL  YEAR  ...  NECKSIZE  HEADSIZE   ALO  \\\n",
       "0                    4     R  2021  ...         4         1  46.0   \n",
       "1                    4     L  2021  ...         5         1  40.0   \n",
       "2                    4     R  2021  ...         4         1  42.0   \n",
       "3                    4     L  2021  ...         4         0  40.0   \n",
       "4                    4     L  2021  ...         5         1  42.0   \n",
       "...                ...   ...   ...  ...       ...       ...   ...   \n",
       "3192                 2     R  2010  ...         3         0  43.0   \n",
       "3193                 2     R  2009  ...         4         0  48.0   \n",
       "3194                 2     R  2008  ...         4         0  48.0   \n",
       "3195                 2     R  2001  ...         4         0  52.0   \n",
       "3196                 2     L  2020  ...         4         1  43.0   \n",
       "\n",
       "      CUPRETROVERSION  STEMANTEVERSIONREAL  RECTUSFEMORISM.RELEASE  \\\n",
       "0                  15                 17,7                      NO   \n",
       "1                  25                 27,7                      NO   \n",
       "2                  20                 27,7                     YES   \n",
       "3                  18                 24,2                      NO   \n",
       "4                  28                 25,9                     YES   \n",
       "...               ...                  ...                     ...   \n",
       "3192               32                 27,7                      NO   \n",
       "3193               26                 25,9                      NO   \n",
       "3194                4                 11,5                      NO   \n",
       "3195               10                 31,3                      NO   \n",
       "3196               35                 17,7                      NO   \n",
       "\n",
       "      first_lux_days_after_thr       DIRECTION LUX_01 LUX_CR  \n",
       "0                          NaN             NaN      0      0  \n",
       "1                          NaN             NaN      0      0  \n",
       "2                          NaN             NaN      0      0  \n",
       "3                          NaN             NaN      0      0  \n",
       "4                          NaN             NaN      0      0  \n",
       "...                        ...             ...    ...    ...  \n",
       "3192                      35.0  CRANIO-DORSALE      1      1  \n",
       "3193                      18.0  CRANIO-DORSALE      1      1  \n",
       "3194                      30.0  CRANIO-DORSALE      1      1  \n",
       "3195                      26.0  CRANIO-DORSALE      1      1  \n",
       "3196                      83.0  CRANIO-DORSALE      1      1  \n",
       "\n",
       "[3197 rows x 24 columns]"
      ]
     },
     "execution_count": 15,
     "metadata": {},
     "output_type": "execute_result"
    }
   ],
   "source": [
    "import pandas as pd\n",
    "\n",
    "dataset = pd.read_csv('/home/biso/Tirocinio/tirocinio/datiLussazioniDefinitivi.csv', delimiter=';')\n",
    "dataset"
   ]
  },
  {
   "cell_type": "code",
   "execution_count": 16,
   "metadata": {},
   "outputs": [],
   "source": [
    "import sys\n",
    "\n",
    "sys.path.append('/home/biso/Tirocinio/tirocinio/base_lib')"
   ]
  },
  {
   "cell_type": "code",
   "execution_count": 17,
   "metadata": {},
   "outputs": [],
   "source": [
    "import functions as func \n",
    "import models\n",
    "import imputation as imp "
   ]
  },
  {
   "cell_type": "code",
   "execution_count": 18,
   "metadata": {},
   "outputs": [],
   "source": [
    "dataset = func.clean_dataset(dataset)\n",
    "\n",
    "cols = ['n_luxation', 'first_lux_days_after_thr', 'DIRECTION']\n",
    "dataset[cols] = dataset[cols].fillna(-1)"
   ]
  },
  {
   "cell_type": "code",
   "execution_count": 19,
   "metadata": {},
   "outputs": [
    {
     "data": {
      "text/plain": [
       "CASE_ID                     0\n",
       "BREED                       0\n",
       "GENDER_01                   0\n",
       "AGEATSURGERYmo              0\n",
       "BODYWEIGHTKG                0\n",
       "Taglia                      0\n",
       "BCS                         2\n",
       "INDICATIONFORTHR            0\n",
       "HIPRL                       1\n",
       "YEAR                        0\n",
       "n_luxation                  0\n",
       "GENERATION                  0\n",
       "STEMSIZE                    0\n",
       "CUPSIZE                     0\n",
       "NECKSIZE                    0\n",
       "HEADSIZE                    0\n",
       "ALO                         1\n",
       "CUPRETROVERSION             0\n",
       "STEMANTEVERSIONREAL         1\n",
       "RECTUSFEMORISM.RELEASE      0\n",
       "first_lux_days_after_thr    0\n",
       "DIRECTION                   0\n",
       "LUX_01                      0\n",
       "LUX_CR                      0\n",
       "dtype: int64"
      ]
     },
     "execution_count": 19,
     "metadata": {},
     "output_type": "execute_result"
    }
   ],
   "source": [
    "dataset.isna().sum()"
   ]
  },
  {
   "cell_type": "code",
   "execution_count": 20,
   "metadata": {},
   "outputs": [
    {
     "data": {
      "text/html": [
       "<div>\n",
       "<style scoped>\n",
       "    .dataframe tbody tr th:only-of-type {\n",
       "        vertical-align: middle;\n",
       "    }\n",
       "\n",
       "    .dataframe tbody tr th {\n",
       "        vertical-align: top;\n",
       "    }\n",
       "\n",
       "    .dataframe thead th {\n",
       "        text-align: right;\n",
       "    }\n",
       "</style>\n",
       "<table border=\"1\" class=\"dataframe\">\n",
       "  <thead>\n",
       "    <tr style=\"text-align: right;\">\n",
       "      <th></th>\n",
       "      <th>CASE_ID</th>\n",
       "      <th>BREED</th>\n",
       "      <th>GENDER_01</th>\n",
       "      <th>AGEATSURGERYmo</th>\n",
       "      <th>BODYWEIGHTKG</th>\n",
       "      <th>Taglia</th>\n",
       "      <th>BCS</th>\n",
       "      <th>INDICATIONFORTHR</th>\n",
       "      <th>HIPRL</th>\n",
       "      <th>YEAR</th>\n",
       "      <th>...</th>\n",
       "      <th>NECKSIZE</th>\n",
       "      <th>HEADSIZE</th>\n",
       "      <th>ALO</th>\n",
       "      <th>CUPRETROVERSION</th>\n",
       "      <th>STEMANTEVERSIONREAL</th>\n",
       "      <th>RECTUSFEMORISM.RELEASE</th>\n",
       "      <th>first_lux_days_after_thr</th>\n",
       "      <th>DIRECTION</th>\n",
       "      <th>LUX_01</th>\n",
       "      <th>LUX_CR</th>\n",
       "    </tr>\n",
       "  </thead>\n",
       "  <tbody>\n",
       "    <tr>\n",
       "      <th>505</th>\n",
       "      <td>506</td>\n",
       "      <td>10</td>\n",
       "      <td>1</td>\n",
       "      <td>31.400000</td>\n",
       "      <td>26.4</td>\n",
       "      <td>1</td>\n",
       "      <td>5.0</td>\n",
       "      <td>4</td>\n",
       "      <td>1.0</td>\n",
       "      <td>2019</td>\n",
       "      <td>...</td>\n",
       "      <td>4</td>\n",
       "      <td>0</td>\n",
       "      <td>45.0</td>\n",
       "      <td>18</td>\n",
       "      <td>NaN</td>\n",
       "      <td>0</td>\n",
       "      <td>-1.0</td>\n",
       "      <td>-1.0</td>\n",
       "      <td>0</td>\n",
       "      <td>0</td>\n",
       "    </tr>\n",
       "    <tr>\n",
       "      <th>1397</th>\n",
       "      <td>1398</td>\n",
       "      <td>10</td>\n",
       "      <td>0</td>\n",
       "      <td>7.600000</td>\n",
       "      <td>28.0</td>\n",
       "      <td>1</td>\n",
       "      <td>NaN</td>\n",
       "      <td>4</td>\n",
       "      <td>0.0</td>\n",
       "      <td>2011</td>\n",
       "      <td>...</td>\n",
       "      <td>4</td>\n",
       "      <td>0</td>\n",
       "      <td>42.0</td>\n",
       "      <td>20</td>\n",
       "      <td>31.3</td>\n",
       "      <td>0</td>\n",
       "      <td>-1.0</td>\n",
       "      <td>-1.0</td>\n",
       "      <td>0</td>\n",
       "      <td>0</td>\n",
       "    </tr>\n",
       "    <tr>\n",
       "      <th>2327</th>\n",
       "      <td>2328</td>\n",
       "      <td>3</td>\n",
       "      <td>0</td>\n",
       "      <td>14.866667</td>\n",
       "      <td>70.0</td>\n",
       "      <td>1</td>\n",
       "      <td>5.0</td>\n",
       "      <td>4</td>\n",
       "      <td>0.0</td>\n",
       "      <td>2018</td>\n",
       "      <td>...</td>\n",
       "      <td>10</td>\n",
       "      <td>4</td>\n",
       "      <td>NaN</td>\n",
       "      <td>28</td>\n",
       "      <td>25.9</td>\n",
       "      <td>0</td>\n",
       "      <td>-1.0</td>\n",
       "      <td>-1.0</td>\n",
       "      <td>0</td>\n",
       "      <td>0</td>\n",
       "    </tr>\n",
       "    <tr>\n",
       "      <th>2516</th>\n",
       "      <td>2517</td>\n",
       "      <td>3</td>\n",
       "      <td>1</td>\n",
       "      <td>23.000000</td>\n",
       "      <td>53.7</td>\n",
       "      <td>1</td>\n",
       "      <td>5.0</td>\n",
       "      <td>2</td>\n",
       "      <td>NaN</td>\n",
       "      <td>2021</td>\n",
       "      <td>...</td>\n",
       "      <td>6</td>\n",
       "      <td>2</td>\n",
       "      <td>40.0</td>\n",
       "      <td>15</td>\n",
       "      <td>19.2</td>\n",
       "      <td>0</td>\n",
       "      <td>-1.0</td>\n",
       "      <td>-1.0</td>\n",
       "      <td>0</td>\n",
       "      <td>1</td>\n",
       "    </tr>\n",
       "    <tr>\n",
       "      <th>3176</th>\n",
       "      <td>3177</td>\n",
       "      <td>7</td>\n",
       "      <td>0</td>\n",
       "      <td>14.100000</td>\n",
       "      <td>56.0</td>\n",
       "      <td>1</td>\n",
       "      <td>NaN</td>\n",
       "      <td>2</td>\n",
       "      <td>0.0</td>\n",
       "      <td>2011</td>\n",
       "      <td>...</td>\n",
       "      <td>4</td>\n",
       "      <td>1</td>\n",
       "      <td>40.0</td>\n",
       "      <td>15</td>\n",
       "      <td>39.5</td>\n",
       "      <td>0</td>\n",
       "      <td>1626.0</td>\n",
       "      <td>0.0</td>\n",
       "      <td>1</td>\n",
       "      <td>1</td>\n",
       "    </tr>\n",
       "  </tbody>\n",
       "</table>\n",
       "<p>5 rows × 24 columns</p>\n",
       "</div>"
      ],
      "text/plain": [
       "      CASE_ID  BREED  GENDER_01  AGEATSURGERYmo  BODYWEIGHTKG  Taglia  BCS  \\\n",
       "505       506     10          1       31.400000          26.4       1  5.0   \n",
       "1397     1398     10          0        7.600000          28.0       1  NaN   \n",
       "2327     2328      3          0       14.866667          70.0       1  5.0   \n",
       "2516     2517      3          1       23.000000          53.7       1  5.0   \n",
       "3176     3177      7          0       14.100000          56.0       1  NaN   \n",
       "\n",
       "      INDICATIONFORTHR  HIPRL  YEAR  ...  NECKSIZE  HEADSIZE   ALO  \\\n",
       "505                  4    1.0  2019  ...         4         0  45.0   \n",
       "1397                 4    0.0  2011  ...         4         0  42.0   \n",
       "2327                 4    0.0  2018  ...        10         4   NaN   \n",
       "2516                 2    NaN  2021  ...         6         2  40.0   \n",
       "3176                 2    0.0  2011  ...         4         1  40.0   \n",
       "\n",
       "      CUPRETROVERSION  STEMANTEVERSIONREAL  RECTUSFEMORISM.RELEASE  \\\n",
       "505                18                  NaN                       0   \n",
       "1397               20                 31.3                       0   \n",
       "2327               28                 25.9                       0   \n",
       "2516               15                 19.2                       0   \n",
       "3176               15                 39.5                       0   \n",
       "\n",
       "      first_lux_days_after_thr  DIRECTION  LUX_01  LUX_CR  \n",
       "505                       -1.0       -1.0       0       0  \n",
       "1397                      -1.0       -1.0       0       0  \n",
       "2327                      -1.0       -1.0       0       0  \n",
       "2516                      -1.0       -1.0       0       1  \n",
       "3176                    1626.0        0.0       1       1  \n",
       "\n",
       "[5 rows x 24 columns]"
      ]
     },
     "execution_count": 20,
     "metadata": {},
     "output_type": "execute_result"
    }
   ],
   "source": [
    "dataset_valori_nan = dataset[dataset.isnull().any(axis=1)]\n",
    "dataset_valori_nan"
   ]
  },
  {
   "cell_type": "code",
   "execution_count": 13,
   "metadata": {},
   "outputs": [
    {
     "name": "stderr",
     "output_type": "stream",
     "text": [
      "/home/biso/anaconda3/lib/python3.11/site-packages/sklearn/linear_model/_logistic.py:458: ConvergenceWarning: lbfgs failed to converge (status=1):\n",
      "STOP: TOTAL NO. of ITERATIONS REACHED LIMIT.\n",
      "\n",
      "Increase the number of iterations (max_iter) or scale the data as shown in:\n",
      "    https://scikit-learn.org/stable/modules/preprocessing.html\n",
      "Please also refer to the documentation for alternative solver options:\n",
      "    https://scikit-learn.org/stable/modules/linear_model.html#logistic-regression\n",
      "  n_iter_i = _check_optimize_result(\n"
     ]
    }
   ],
   "source": [
    "# faccio imputation con regressione lineare e logistica\n",
    "dataset_imputed = imp.total_imputation_regression(dataset)"
   ]
  },
  {
   "cell_type": "code",
   "execution_count": 23,
   "metadata": {},
   "outputs": [
    {
     "data": {
      "image/png": "[encoded data removed]",
      "text/plain": [
       "<Figure size 1400x1600 with 8 Axes>"
      ]
     },
     "metadata": {},
     "output_type": "display_data"
    }
   ],
   "source": [
    "import numpy as np\n",
    "import seaborn as sns\n",
    "import matplotlib.pyplot as plt \n",
    "\n",
    "plt.figure(figsize=(14, 16))\n",
    "\n",
    "new_values_bcs = dataset_imputed[dataset['BCS'].isna()]['BCS']\n",
    "\n",
    "# Box plot e scatter plot per la colonna BCS\n",
    "plt.subplot(4, 2, 1)\n",
    "plt.boxplot(dataset['BCS'].dropna(), vert=False)\n",
    "plt.title('Box Plot della Colonna BCS (Prima dell\\'Imputation)')\n",
    "plt.xlabel('Valori')\n",
    "\n",
    "plt.subplot(4, 2, 2)\n",
    "plt.boxplot(dataset_imputed['BCS'], vert=False)\n",
    "plt.scatter(new_values_bcs, [1]*len(new_values_bcs), color='red', label='Valori Imputati')\n",
    "plt.title('Box Plot della Colonna BCS (Dopo l\\'Imputation)')\n",
    "plt.xlabel('Valori')\n",
    "plt.legend()\n",
    "\n",
    "new_values_alo = dataset_imputed[dataset['ALO'].isna()]['ALO']\n",
    "\n",
    "# Box plot e scatter plot per la colonna ALO\n",
    "plt.subplot(4, 2, 3)\n",
    "plt.boxplot(dataset['ALO'].dropna(), vert=False)\n",
    "plt.title('Box Plot della Colonna ALO (Prima dell\\'Imputation)')\n",
    "plt.xlabel('Valori')\n",
    "\n",
    "plt.subplot(4, 2, 4)\n",
    "plt.boxplot(dataset_imputed['ALO'], vert=False)\n",
    "plt.scatter(new_values_alo, [1]*len(new_values_alo), color='red', label='Valori Imputati')\n",
    "plt.title('Box Plot della Colonna ALO (Dopo l\\'Imputation)')\n",
    "plt.xlabel('Valori')\n",
    "plt.legend()\n",
    "\n",
    "new_values_STEMANTEVERSIONREAL = dataset_imputed[dataset['STEMANTEVERSIONREAL'].isna()]['STEMANTEVERSIONREAL']\n",
    "\n",
    "# Box plot e scatter plot per la colonna STEMANTEVERSIONREAL\n",
    "plt.subplot(4, 2, 5)\n",
    "plt.boxplot(dataset['STEMANTEVERSIONREAL'].dropna(), vert=False)\n",
    "plt.title('Box Plot della Colonna STEMANTEVERSIONREAL (Prima dell\\'Imputation)')\n",
    "plt.xlabel('Valori')\n",
    "\n",
    "plt.subplot(4, 2, 6)\n",
    "plt.boxplot(dataset_imputed['STEMANTEVERSIONREAL'], vert=False)\n",
    "plt.scatter(new_values_STEMANTEVERSIONREAL, [1]*len(new_values_STEMANTEVERSIONREAL), color='red', label='Valori Imputati')\n",
    "plt.title('Box Plot della Colonna STEMANTEVERSIONREAL (Dopo l\\'Imputation)')\n",
    "plt.xlabel('Valori')\n",
    "plt.legend()\n",
    "\n",
    "new_values_HIPRL = dataset_imputed[dataset['HIPRL'].isna()]['HIPRL']\n",
    "\n",
    "# Box plot e scatter plot per la colonna HIPRL\n",
    "plt.subplot(4, 2, 7)\n",
    "plt.boxplot(dataset['HIPRL'].dropna(), vert=False)\n",
    "plt.title('Box Plot della Colonna HIPRL (Prima dell\\'Imputation)')\n",
    "plt.xlabel('Valori')\n",
    "\n",
    "plt.subplot(4, 2, 8)\n",
    "plt.boxplot(dataset_imputed['HIPRL'], vert=False)\n",
    "plt.scatter(new_values_HIPRL, [1]*len(new_values_HIPRL), color='red', label='Valori Imputati')\n",
    "plt.title('Box Plot della Colonna HIPRL (Dopo l\\'Imputation)')\n",
    "plt.xlabel('Valori')\n",
    "plt.legend()\n",
    "\n",
    "# Aggiungere spazio tra i grafici e ai bordi\n",
    "plt.tight_layout()\n",
    "plt.subplots_adjust(hspace=0.5, wspace=0.3, left=0.1, right=0.9, top=0.9, bottom=0.1)  # Aggiungere spazio tra i grafici e ai bordi\n",
    "\n",
    "plt.show()"
   ]
  },
  {
   "cell_type": "code",
   "execution_count": 24,
   "metadata": {},
   "outputs": [
    {
     "data": {
      "text/plain": [
       "1397    5.114094\n",
       "3176    5.810313\n",
       "Name: BCS, dtype: float64"
      ]
     },
     "execution_count": 24,
     "metadata": {},
     "output_type": "execute_result"
    }
   ],
   "source": [
    "dataset_imputed[dataset['BCS'].isna()]['BCS']"
   ]
  },
  {
   "cell_type": "code",
   "execution_count": 25,
   "metadata": {},
   "outputs": [
    {
     "data": {
      "text/plain": [
       "2516    1.0\n",
       "Name: HIPRL, dtype: float64"
      ]
     },
     "execution_count": 25,
     "metadata": {},
     "output_type": "execute_result"
    }
   ],
   "source": [
    "dataset_imputed[dataset['HIPRL'].isna()]['HIPRL']"
   ]
  },
  {
   "cell_type": "code",
   "execution_count": 26,
   "metadata": {},
   "outputs": [
    {
     "data": {
      "text/plain": [
       "505    20.609108\n",
       "Name: STEMANTEVERSIONREAL, dtype: float64"
      ]
     },
     "execution_count": 26,
     "metadata": {},
     "output_type": "execute_result"
    }
   ],
   "source": [
    "dataset_imputed[dataset['STEMANTEVERSIONREAL'].isna()]['STEMANTEVERSIONREAL']"
   ]
  },
  {
   "cell_type": "code",
   "execution_count": 27,
   "metadata": {},
   "outputs": [
    {
     "data": {
      "text/plain": [
       "2327    42.7536\n",
       "Name: ALO, dtype: float64"
      ]
     },
     "execution_count": 27,
     "metadata": {},
     "output_type": "execute_result"
    }
   ],
   "source": [
    "dataset_imputed[dataset['ALO'].isna()]['ALO']"
   ]
  },
  {
   "cell_type": "code",
   "execution_count": 28,
   "metadata": {},
   "outputs": [],
   "source": [
    "dataset = dataset_imputed"
   ]
  },
  {
   "cell_type": "code",
   "execution_count": 29,
   "metadata": {},
   "outputs": [
    {
     "data": {
      "text/plain": [
       "CASE_ID                     0\n",
       "BREED                       0\n",
       "GENDER_01                   0\n",
       "AGEATSURGERYmo              0\n",
       "BODYWEIGHTKG                0\n",
       "Taglia                      0\n",
       "BCS                         0\n",
       "INDICATIONFORTHR            0\n",
       "HIPRL                       0\n",
       "YEAR                        0\n",
       "n_luxation                  0\n",
       "GENERATION                  0\n",
       "STEMSIZE                    0\n",
       "CUPSIZE                     0\n",
       "NECKSIZE                    0\n",
       "HEADSIZE                    0\n",
       "ALO                         0\n",
       "CUPRETROVERSION             0\n",
       "STEMANTEVERSIONREAL         0\n",
       "RECTUSFEMORISM.RELEASE      0\n",
       "first_lux_days_after_thr    0\n",
       "DIRECTION                   0\n",
       "LUX_01                      0\n",
       "LUX_CR                      0\n",
       "dtype: int64"
      ]
     },
     "execution_count": 29,
     "metadata": {},
     "output_type": "execute_result"
    }
   ],
   "source": [
    "dataset.isna().sum()"
   ]
  },
  {
   "cell_type": "code",
   "execution_count": 30,
   "metadata": {},
   "outputs": [],
   "source": [
    "# Definizione di X e y\n",
    "\n",
    "# insieme di predittori\n",
    "feature_cols = ['CASE_ID', 'BREED', 'GENDER_01', 'AGEATSURGERYmo', 'BODYWEIGHTKG', 'Taglia', 'BCS', 'INDICATIONFORTHR', 'HIPRL', \n",
    "                'YEAR', 'GENERATION', 'STEMSIZE', 'CUPSIZE', 'NECKSIZE', 'HEADSIZE', 'ALO', 'CUPRETROVERSION', 'STEMANTEVERSIONREAL', \n",
    "                'RECTUSFEMORISM.RELEASE', 'LUX_CR', 'n_luxation', 'DIRECTION', 'first_lux_days_after_thr']\n",
    "X = dataset[feature_cols]\n",
    "\n",
    "# variabile di risposta, è una variabile binaria\n",
    "y = dataset['LUX_01']"
   ]
  },
  {
   "cell_type": "code",
   "execution_count": 31,
   "metadata": {},
   "outputs": [],
   "source": [
    "dataset = func.oversampling(X, y)"
   ]
  },
  {
   "cell_type": "code",
   "execution_count": 32,
   "metadata": {},
   "outputs": [],
   "source": [
    "dataset = dataset.sample(frac=1, random_state=42)"
   ]
  },
  {
   "cell_type": "code",
   "execution_count": 33,
   "metadata": {},
   "outputs": [],
   "source": [
    "dataset = func.drop_cols(dataset)"
   ]
  },
  {
   "cell_type": "code",
   "execution_count": 34,
   "metadata": {},
   "outputs": [],
   "source": [
    "feature_cols = ['BREED', 'GENDER_01', 'AGEATSURGERYmo', 'BODYWEIGHTKG', 'Taglia', 'BCS', 'INDICATIONFORTHR', 'HIPRL', \n",
    "                'YEAR', 'GENERATION', 'STEMSIZE', 'CUPSIZE', 'NECKSIZE', 'HEADSIZE', 'ALO', 'CUPRETROVERSION', 'STEMANTEVERSIONREAL', \n",
    "                'RECTUSFEMORISM.RELEASE', 'LUX_CR']\n",
    "\n",
    "X = dataset[feature_cols]\n",
    "y = dataset['target']\n",
    "\n",
    "# la feature LUX_01 è stata cambiata in target dopo l'oversampling"
   ]
  },
  {
   "cell_type": "markdown",
   "metadata": {},
   "source": [
    "### Regressione logistica sulla feature target"
   ]
  },
  {
   "cell_type": "code",
   "execution_count": 35,
   "metadata": {},
   "outputs": [
    {
     "name": "stdout",
     "output_type": "stream",
     "text": [
      "Report di classificazione:\n",
      "              precision    recall  f1-score   support\n",
      "\n",
      "           0       0.78      0.70      0.74       911\n",
      "           1       0.73      0.80      0.77       923\n",
      "\n",
      "    accuracy                           0.75      1834\n",
      "   macro avg       0.76      0.75      0.75      1834\n",
      "weighted avg       0.76      0.75      0.75      1834\n",
      "\n"
     ]
    }
   ],
   "source": [
    "model = models.logistic_regression_model(X, y)"
   ]
  },
  {
   "cell_type": "markdown",
   "metadata": {},
   "source": [
    "### Regressione logistica con cross validation"
   ]
  },
  {
   "cell_type": "code",
   "execution_count": 36,
   "metadata": {},
   "outputs": [
    {
     "name": "stdout",
     "output_type": "stream",
     "text": [
      "Report di classificazione:\n",
      "              precision    recall  f1-score   support\n",
      "\n",
      "           0       0.78      0.70      0.74       911\n",
      "           1       0.73      0.80      0.77       923\n",
      "\n",
      "    accuracy                           0.75      1834\n",
      "   macro avg       0.76      0.75      0.75      1834\n",
      "weighted avg       0.76      0.75      0.75      1834\n",
      "\n"
     ]
    }
   ],
   "source": [
    "model = models.logistic_regression_cv_model(X, y, cv=5)"
   ]
  },
  {
   "cell_type": "markdown",
   "metadata": {},
   "source": [
    "### Regressione logistica con grid search cv"
   ]
  },
  {
   "cell_type": "code",
   "execution_count": 37,
   "metadata": {},
   "outputs": [
    {
     "name": "stdout",
     "output_type": "stream",
     "text": [
      "Report di classificazione:\n",
      "              precision    recall  f1-score   support\n",
      "\n",
      "           0       0.78      0.71      0.74       911\n",
      "           1       0.74      0.81      0.77       923\n",
      "\n",
      "    accuracy                           0.76      1834\n",
      "   macro avg       0.76      0.76      0.76      1834\n",
      "weighted avg       0.76      0.76      0.76      1834\n",
      "\n",
      "Migliori parametri: {'C': 1}\n"
     ]
    }
   ],
   "source": [
    "param_grid = {\n",
    "    'C': [0.01, 0.1, 1]\n",
    "}\n",
    "\n",
    "model = models.logistic_regression_gridsearchcv_model(X=X,\n",
    "                                                      y=y,\n",
    "                                                      param_grid=param_grid,\n",
    "                                                      cv=5,\n",
    "                                                      scoring='accuracy')"
   ]
  },
  {
   "cell_type": "markdown",
   "metadata": {},
   "source": [
    "### Albero di decisione"
   ]
  },
  {
   "cell_type": "code",
   "execution_count": 38,
   "metadata": {},
   "outputs": [
    {
     "name": "stdout",
     "output_type": "stream",
     "text": [
      "Report di classificazione:\n",
      "              precision    recall  f1-score   support\n",
      "\n",
      "           0       0.93      0.91      0.92       911\n",
      "           1       0.91      0.94      0.92       923\n",
      "\n",
      "    accuracy                           0.92      1834\n",
      "   macro avg       0.92      0.92      0.92      1834\n",
      "weighted avg       0.92      0.92      0.92      1834\n",
      "\n"
     ]
    }
   ],
   "source": [
    "model = models.decision_tree_model(X=X,\n",
    "                                   y=y,\n",
    "                                   max_depth=15)"
   ]
  },
  {
   "cell_type": "markdown",
   "metadata": {},
   "source": [
    "### Albero di decisione con grid search cv"
   ]
  },
  {
   "cell_type": "code",
   "execution_count": 39,
   "metadata": {},
   "outputs": [
    {
     "name": "stdout",
     "output_type": "stream",
     "text": [
      "Report di classificazione:\n",
      "              precision    recall  f1-score   support\n",
      "\n",
      "           0       0.93      0.91      0.92       911\n",
      "           1       0.91      0.94      0.92       923\n",
      "\n",
      "    accuracy                           0.92      1834\n",
      "   macro avg       0.92      0.92      0.92      1834\n",
      "weighted avg       0.92      0.92      0.92      1834\n",
      "\n",
      "Migliori parametri: {'max_depth': 15}\n"
     ]
    }
   ],
   "source": [
    "param_grid = {\n",
    "    'max_depth': [5, 10, 15]\n",
    "}\n",
    "\n",
    "model = models.decision_tree_gridsearchcv_model(X=X,\n",
    "                                                y=y,\n",
    "                                                param_grid=param_grid,\n",
    "                                                cv=10,\n",
    "                                                scoring='accuracy')"
   ]
  },
  {
   "cell_type": "markdown",
   "metadata": {},
   "source": [
    "### Random forest"
   ]
  },
  {
   "cell_type": "code",
   "execution_count": 40,
   "metadata": {},
   "outputs": [
    {
     "name": "stdout",
     "output_type": "stream",
     "text": [
      "Report di classificazione:\n",
      "              precision    recall  f1-score   support\n",
      "\n",
      "           0       0.95      0.94      0.94       911\n",
      "           1       0.94      0.95      0.94       923\n",
      "\n",
      "    accuracy                           0.94      1834\n",
      "   macro avg       0.94      0.94      0.94      1834\n",
      "weighted avg       0.94      0.94      0.94      1834\n",
      "\n"
     ]
    }
   ],
   "source": [
    "model = models.random_forest_model(X=X,\n",
    "                                   y=y,\n",
    "                                   n_estimators=10,\n",
    "                                   max_depth=10)"
   ]
  },
  {
   "cell_type": "markdown",
   "metadata": {},
   "source": [
    "### Random forest con grid search cv"
   ]
  },
  {
   "cell_type": "code",
   "execution_count": 41,
   "metadata": {},
   "outputs": [
    {
     "name": "stdout",
     "output_type": "stream",
     "text": [
      "Report di classificazione:\n",
      "              precision    recall  f1-score   support\n",
      "\n",
      "           0       0.95      0.98      0.96       911\n",
      "           1       0.98      0.95      0.96       923\n",
      "\n",
      "    accuracy                           0.96      1834\n",
      "   macro avg       0.96      0.96      0.96      1834\n",
      "weighted avg       0.96      0.96      0.96      1834\n",
      "\n",
      "Migliori parametri: {'max_depth': 19, 'n_estimators': 13}\n"
     ]
    }
   ],
   "source": [
    "param_grid = {\n",
    "    'max_depth': [1, 2, 3, 4, 5, 6, 7, 8, 9, 10, 11, 12, 13, 14, 15, 16, 17, 18, 19, 20],\n",
    "    'n_estimators': [7, 9, 11, 13]\n",
    "}\n",
    "\n",
    "model = models.random_forest_gridsearchcv_model(X=X,\n",
    "                                                y=y,\n",
    "                                                param_grid=param_grid,\n",
    "                                                cv=10,\n",
    "                                                scoring='accuracy')"
   ]
  }
 ],
 "metadata": {
  "kernelspec": {
   "display_name": "base",
   "language": "python",
   "name": "python3"
  },
  "language_info": {
   "codemirror_mode": {
    "name": "ipython",
    "version": 3
   },
   "file_extension": ".py",
   "mimetype": "text/x-python",
   "name": "python",
   "nbconvert_exporter": "python",
   "pygments_lexer": "ipython3",
   "version": "3.11.7"
  }
 },
 "nbformat": 4,
 "nbformat_minor": 2
}
