{
 "cells": [
  {
   "cell_type": "code",
   "execution_count": 2,
   "metadata": {},
   "outputs": [
    {
     "name": "stdout",
     "output_type": "stream",
     "text": [
      "Accuracy: 0.9090909090909091\n",
      "Classification Report:\n",
      "               precision    recall  f1-score   support\n",
      "\n",
      "           0       1.00      1.00      1.00        10\n",
      "           1       0.90      0.90      0.90        10\n",
      "           2       0.50      0.50      0.50         2\n",
      "\n",
      "    accuracy                           0.91        22\n",
      "   macro avg       0.80      0.80      0.80        22\n",
      "weighted avg       0.91      0.91      0.91        22\n",
      "\n"
     ]
    }
   ],
   "source": [
    "import pandas as pd\n",
    "from sklearn.datasets import load_iris\n",
    "from sklearn.model_selection import train_test_split\n",
    "from imblearn.over_sampling import SMOTE\n",
    "from sklearn.tree import DecisionTreeClassifier\n",
    "from sklearn.metrics import classification_report, accuracy_score\n",
    "\n",
    "# Carica il dataset Iris\n",
    "iris = load_iris()\n",
    "X = pd.DataFrame(iris.data, columns=iris.feature_names)\n",
    "y = pd.Series(iris.target)\n",
    "\n",
    "# Forza uno squilibrio rimuovendo alcune righe della classe 2 (Virginica)\n",
    "X_class_0 = X[y == 0]\n",
    "y_class_0 = y[y == 0]\n",
    "X_class_1 = X[y == 1]\n",
    "y_class_1 = y[y == 1]\n",
    "X_class_2 = X[y == 2][:10]\n",
    "y_class_2 = y[y == 2][:10]\n",
    "\n",
    "X_imbalanced = pd.concat([X_class_0, X_class_1, X_class_2])\n",
    "y_imbalanced = pd.concat([y_class_0, y_class_1, y_class_2])\n",
    "\n",
    "# Dividi il dataset in training e test set\n",
    "X_train, X_test, y_train, y_test = train_test_split(X_imbalanced, y_imbalanced, test_size=0.2, random_state=42, stratify=y_imbalanced)\n",
    "\n",
    "# Applica l'oversampling alla classe minoritaria nel training set\n",
    "smote = SMOTE(random_state=42)\n",
    "X_train_res, y_train_res = smote.fit_resample(X_train, y_train)\n",
    "\n",
    "# Crea e addestra il modello con albero di decisione\n",
    "clf = DecisionTreeClassifier(random_state=42)\n",
    "clf.fit(X_train_res, y_train_res)\n",
    "\n",
    "# Effettua predizioni sui dati originali (test set)\n",
    "y_pred = clf.predict(X_test)\n",
    "\n",
    "# Stampa i risultati\n",
    "print(\"Accuracy:\", accuracy_score(y_test, y_pred))\n",
    "print(\"Classification Report:\\n\", classification_report(y_test, y_pred))\n"
   ]
  },
  {
   "cell_type": "code",
   "execution_count": 5,
   "metadata": {},
   "outputs": [
    {
     "data": {
      "text/plain": [
       "0    10\n",
       "1    10\n",
       "2     2\n",
       "Name: count, dtype: int64"
      ]
     },
     "execution_count": 5,
     "metadata": {},
     "output_type": "execute_result"
    }
   ],
   "source": [
    "y_test.value_counts()"
   ]
  }
 ],
 "metadata": {
  "kernelspec": {
   "display_name": "base",
   "language": "python",
   "name": "python3"
  },
  "language_info": {
   "codemirror_mode": {
    "name": "ipython",
    "version": 3
   },
   "file_extension": ".py",
   "mimetype": "text/x-python",
   "name": "python",
   "nbconvert_exporter": "python",
   "pygments_lexer": "ipython3",
   "version": "3.1.undefined"
  }
 },
 "nbformat": 4,
 "nbformat_minor": 2
}
